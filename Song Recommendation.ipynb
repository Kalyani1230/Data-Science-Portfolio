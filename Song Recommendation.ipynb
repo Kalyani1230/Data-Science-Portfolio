{
 "cells": [
  {
   "cell_type": "markdown",
   "metadata": {},
   "source": [
    "# Main"
   ]
  },
  {
   "cell_type": "code",
   "execution_count": 129,
   "metadata": {},
   "outputs": [],
   "source": [
    "'''Main Libraries'''\n",
    "import numpy as np\n",
    "import pandas as pd\n",
    "\n",
    "'''Datetime'''\n",
    "import time\n",
    "from datetime import datetime\n",
    "from dateutil.parser import parse\n",
    "\n",
    "'''Modeling'''\n",
    "from sklearn.model_selection import train_test_split\n",
    "from sklearn import preprocessing\n",
    "from sklearn.tree import DecisionTreeClassifier\n",
    "from sklearn.ensemble import RandomForestClassifier\n",
    "from sklearn.ensemble import AdaBoostClassifier\n",
    "from sklearn.metrics import f1_score\n",
    "\n",
    "'''Visualization'''\n",
    "import matplotlib.pyplot as plt\n",
    "import graphviz\n",
    "from graphviz import Source\n",
    "from sklearn.tree import export_graphviz\n",
    "from IPython.display import Image"
   ]
  },
  {
   "cell_type": "markdown",
   "metadata": {},
   "source": [
    "## Uplaod data \n",
    "Converting from json to pandas dataframe"
   ]
  },
  {
   "cell_type": "code",
   "execution_count": 2,
   "metadata": {},
   "outputs": [],
   "source": [
    "data = pd.read_json (r'song.json')"
   ]
  },
  {
   "cell_type": "markdown",
   "metadata": {},
   "source": [
    "### Data Preview"
   ]
  },
  {
   "cell_type": "code",
   "execution_count": 3,
   "metadata": {},
   "outputs": [
    {
     "data": {
      "text/html": [
       "<div>\n",
       "<style scoped>\n",
       "    .dataframe tbody tr th:only-of-type {\n",
       "        vertical-align: middle;\n",
       "    }\n",
       "\n",
       "    .dataframe tbody tr th {\n",
       "        vertical-align: top;\n",
       "    }\n",
       "\n",
       "    .dataframe thead th {\n",
       "        text-align: right;\n",
       "    }\n",
       "</style>\n",
       "<table border=\"1\" class=\"dataframe\">\n",
       "  <thead>\n",
       "    <tr style=\"text-align: right;\">\n",
       "      <th></th>\n",
       "      <th>id</th>\n",
       "      <th>user_id</th>\n",
       "      <th>user_state</th>\n",
       "      <th>user_sign_up_date</th>\n",
       "      <th>song_played</th>\n",
       "      <th>time_played</th>\n",
       "    </tr>\n",
       "  </thead>\n",
       "  <tbody>\n",
       "    <tr>\n",
       "      <td>0</td>\n",
       "      <td>GOQMMKSQQH</td>\n",
       "      <td>122</td>\n",
       "      <td>Louisiana</td>\n",
       "      <td>2015-05-16</td>\n",
       "      <td>Hey Jude</td>\n",
       "      <td>2015-06-11 21:51:35</td>\n",
       "    </tr>\n",
       "    <tr>\n",
       "      <td>1</td>\n",
       "      <td>HWKKBQKNWI</td>\n",
       "      <td>3</td>\n",
       "      <td>Ohio</td>\n",
       "      <td>2015-05-01</td>\n",
       "      <td>We Can Work It Out</td>\n",
       "      <td>2015-06-06 16:49:19</td>\n",
       "    </tr>\n",
       "    <tr>\n",
       "      <td>2</td>\n",
       "      <td>DKQSXVNJDH</td>\n",
       "      <td>35</td>\n",
       "      <td>New Jersey</td>\n",
       "      <td>2015-05-04</td>\n",
       "      <td>Back In the U.S.S.R.</td>\n",
       "      <td>2015-06-14 02:11:29</td>\n",
       "    </tr>\n",
       "    <tr>\n",
       "      <td>3</td>\n",
       "      <td>HLHRIDQTUW</td>\n",
       "      <td>126</td>\n",
       "      <td>Illinois</td>\n",
       "      <td>2015-05-16</td>\n",
       "      <td>P.s. I Love You</td>\n",
       "      <td>2015-06-08 12:26:10</td>\n",
       "    </tr>\n",
       "    <tr>\n",
       "      <td>4</td>\n",
       "      <td>SUKJCSBCYW</td>\n",
       "      <td>6</td>\n",
       "      <td>New Jersey</td>\n",
       "      <td>2015-05-01</td>\n",
       "      <td>Sgt. Pepper's Lonely Hearts Club Band</td>\n",
       "      <td>2015-06-28 14:57:00</td>\n",
       "    </tr>\n",
       "  </tbody>\n",
       "</table>\n",
       "</div>"
      ],
      "text/plain": [
       "           id  user_id  user_state user_sign_up_date  \\\n",
       "0  GOQMMKSQQH      122   Louisiana        2015-05-16   \n",
       "1  HWKKBQKNWI        3        Ohio        2015-05-01   \n",
       "2  DKQSXVNJDH       35  New Jersey        2015-05-04   \n",
       "3  HLHRIDQTUW      126    Illinois        2015-05-16   \n",
       "4  SUKJCSBCYW        6  New Jersey        2015-05-01   \n",
       "\n",
       "                             song_played          time_played  \n",
       "0                               Hey Jude  2015-06-11 21:51:35  \n",
       "1                     We Can Work It Out  2015-06-06 16:49:19  \n",
       "2                   Back In the U.S.S.R.  2015-06-14 02:11:29  \n",
       "3                        P.s. I Love You  2015-06-08 12:26:10  \n",
       "4  Sgt. Pepper's Lonely Hearts Club Band  2015-06-28 14:57:00  "
      ]
     },
     "execution_count": 3,
     "metadata": {},
     "output_type": "execute_result"
    }
   ],
   "source": [
    "data.head()"
   ]
  },
  {
   "cell_type": "markdown",
   "metadata": {},
   "source": [
    "## Date-time formatting"
   ]
  },
  {
   "cell_type": "code",
   "execution_count": 4,
   "metadata": {},
   "outputs": [
    {
     "data": {
      "text/html": [
       "<div>\n",
       "<style scoped>\n",
       "    .dataframe tbody tr th:only-of-type {\n",
       "        vertical-align: middle;\n",
       "    }\n",
       "\n",
       "    .dataframe tbody tr th {\n",
       "        vertical-align: top;\n",
       "    }\n",
       "\n",
       "    .dataframe thead th {\n",
       "        text-align: right;\n",
       "    }\n",
       "</style>\n",
       "<table border=\"1\" class=\"dataframe\">\n",
       "  <thead>\n",
       "    <tr style=\"text-align: right;\">\n",
       "      <th></th>\n",
       "      <th>id</th>\n",
       "      <th>user_id</th>\n",
       "      <th>user_state</th>\n",
       "      <th>user_sign_up_date</th>\n",
       "      <th>song_played</th>\n",
       "      <th>time_played</th>\n",
       "      <th>day_played</th>\n",
       "      <th>time_of_day_played</th>\n",
       "    </tr>\n",
       "  </thead>\n",
       "  <tbody>\n",
       "    <tr>\n",
       "      <td>0</td>\n",
       "      <td>GOQMMKSQQH</td>\n",
       "      <td>122</td>\n",
       "      <td>Louisiana</td>\n",
       "      <td>2015-05-16</td>\n",
       "      <td>Hey Jude</td>\n",
       "      <td>2015-06-11 21:51:35</td>\n",
       "      <td>2015-06-11</td>\n",
       "      <td>21:51:35</td>\n",
       "    </tr>\n",
       "    <tr>\n",
       "      <td>1</td>\n",
       "      <td>HWKKBQKNWI</td>\n",
       "      <td>3</td>\n",
       "      <td>Ohio</td>\n",
       "      <td>2015-05-01</td>\n",
       "      <td>We Can Work It Out</td>\n",
       "      <td>2015-06-06 16:49:19</td>\n",
       "      <td>2015-06-06</td>\n",
       "      <td>16:49:19</td>\n",
       "    </tr>\n",
       "    <tr>\n",
       "      <td>2</td>\n",
       "      <td>DKQSXVNJDH</td>\n",
       "      <td>35</td>\n",
       "      <td>New Jersey</td>\n",
       "      <td>2015-05-04</td>\n",
       "      <td>Back In the U.S.S.R.</td>\n",
       "      <td>2015-06-14 02:11:29</td>\n",
       "      <td>2015-06-14</td>\n",
       "      <td>02:11:29</td>\n",
       "    </tr>\n",
       "    <tr>\n",
       "      <td>3</td>\n",
       "      <td>HLHRIDQTUW</td>\n",
       "      <td>126</td>\n",
       "      <td>Illinois</td>\n",
       "      <td>2015-05-16</td>\n",
       "      <td>P.s. I Love You</td>\n",
       "      <td>2015-06-08 12:26:10</td>\n",
       "      <td>2015-06-08</td>\n",
       "      <td>12:26:10</td>\n",
       "    </tr>\n",
       "    <tr>\n",
       "      <td>4</td>\n",
       "      <td>SUKJCSBCYW</td>\n",
       "      <td>6</td>\n",
       "      <td>New Jersey</td>\n",
       "      <td>2015-05-01</td>\n",
       "      <td>Sgt. Pepper's Lonely Hearts Club Band</td>\n",
       "      <td>2015-06-28 14:57:00</td>\n",
       "      <td>2015-06-28</td>\n",
       "      <td>14:57:00</td>\n",
       "    </tr>\n",
       "  </tbody>\n",
       "</table>\n",
       "</div>"
      ],
      "text/plain": [
       "           id  user_id  user_state user_sign_up_date  \\\n",
       "0  GOQMMKSQQH      122   Louisiana        2015-05-16   \n",
       "1  HWKKBQKNWI        3        Ohio        2015-05-01   \n",
       "2  DKQSXVNJDH       35  New Jersey        2015-05-04   \n",
       "3  HLHRIDQTUW      126    Illinois        2015-05-16   \n",
       "4  SUKJCSBCYW        6  New Jersey        2015-05-01   \n",
       "\n",
       "                             song_played         time_played day_played  \\\n",
       "0                               Hey Jude 2015-06-11 21:51:35 2015-06-11   \n",
       "1                     We Can Work It Out 2015-06-06 16:49:19 2015-06-06   \n",
       "2                   Back In the U.S.S.R. 2015-06-14 02:11:29 2015-06-14   \n",
       "3                        P.s. I Love You 2015-06-08 12:26:10 2015-06-08   \n",
       "4  Sgt. Pepper's Lonely Hearts Club Band 2015-06-28 14:57:00 2015-06-28   \n",
       "\n",
       "  time_of_day_played  \n",
       "0           21:51:35  \n",
       "1           16:49:19  \n",
       "2           02:11:29  \n",
       "3           12:26:10  \n",
       "4           14:57:00  "
      ]
     },
     "execution_count": 4,
     "metadata": {},
     "output_type": "execute_result"
    }
   ],
   "source": [
    "data['user_sign_up_date'] =  pd.to_datetime(data['user_sign_up_date'])\n",
    "data['time_played'] = pd.to_datetime(data['time_played'])\n",
    "data['day_played'] = pd.to_datetime(data['time_played'].apply(lambda x: str(x).split()[0]))\n",
    "data['time_of_day_played'] = data['time_played'].apply(lambda x: str(x).split(' ')[1])\n",
    "data.head()"
   ]
  },
  {
   "cell_type": "markdown",
   "metadata": {},
   "source": [
    "# What are the top 3 and the bottom 3 states in terms number of users?"
   ]
  },
  {
   "cell_type": "code",
   "execution_count": 5,
   "metadata": {},
   "outputs": [
    {
     "name": "stderr",
     "output_type": "stream",
     "text": [
      "/opt/anaconda3/lib/python3.7/site-packages/ipykernel_launcher.py:2: FutureWarning: using a dict on a Series for aggregation\n",
      "is deprecated and will be removed in a future version. Use                 named aggregation instead.\n",
      "\n",
      "    >>> grouper.agg(name_1=func_1, name_2=func_2)\n",
      "\n",
      "  \n"
     ]
    }
   ],
   "source": [
    "x = data.groupby(['user_state'])['user_id'].agg({'users_per_state': lambda x: len(x.unique()),\n",
    "                                                'total_acitivity_per_state': lambda x: len(x)})"
   ]
  },
  {
   "cell_type": "code",
   "execution_count": 6,
   "metadata": {},
   "outputs": [
    {
     "name": "stdout",
     "output_type": "stream",
     "text": [
      "States with the most number of users\n",
      "-------------------------------------\n",
      "user_state\n",
      "New York      23\n",
      "California    21\n",
      "Texas         15\n",
      "Name: users_per_state, dtype: int64\n",
      "States with the most number of users\n",
      "-------------------------------------\n",
      "user_state\n",
      "Arizona        1\n",
      "Connecticut    1\n",
      "Idaho          1\n",
      "Name: users_per_state, dtype: int64\n"
     ]
    }
   ],
   "source": [
    "print('States with the most number of users')\n",
    "print('-------------------------------------')\n",
    "print(x['users_per_state'].nlargest(3))\n",
    "print('States with the most number of users')\n",
    "print('-------------------------------------')\n",
    "print(x['users_per_state'].nsmallest(3))"
   ]
  },
  {
   "cell_type": "markdown",
   "metadata": {},
   "source": [
    "# What are the top 3 and the bottom 3 states in terms of user engagement? You can choose how to mathematically define user engagement. What the CEO cares about here is in which states users are using the product a lot/very little."
   ]
  },
  {
   "cell_type": "code",
   "execution_count": 7,
   "metadata": {},
   "outputs": [
    {
     "data": {
      "text/plain": [
       "user_state\n",
       "New York      469\n",
       "California    425\n",
       "Texas         230\n",
       "Name: total_acitivity_per_state, dtype: int64"
      ]
     },
     "execution_count": 7,
     "metadata": {},
     "output_type": "execute_result"
    }
   ],
   "source": [
    "x['total_acitivity_per_state'].nlargest(3)"
   ]
  },
  {
   "cell_type": "code",
   "execution_count": 8,
   "metadata": {},
   "outputs": [
    {
     "data": {
      "text/plain": [
       "user_state\n",
       "Kansas          8\n",
       "Connecticut    16\n",
       "New Mexico     17\n",
       "Name: total_acitivity_per_state, dtype: int64"
      ]
     },
     "execution_count": 8,
     "metadata": {},
     "output_type": "execute_result"
    }
   ],
   "source": [
    "x['total_acitivity_per_state'].nsmallest(3)"
   ]
  },
  {
   "cell_type": "markdown",
   "metadata": {},
   "source": [
    "# The CEO wants to send a gift to the first user who signed-up for each state. That is, the first user who signed-up from California, from Oregon, etc. Can you give him a list of those users?"
   ]
  },
  {
   "cell_type": "code",
   "execution_count": 9,
   "metadata": {},
   "outputs": [
    {
     "name": "stdout",
     "output_type": "stream",
     "text": [
      "first user for each state\n"
     ]
    },
    {
     "data": {
      "text/plain": [
       "{'Louisiana': 50,\n",
       " 'Ohio': 3,\n",
       " 'New Jersey': 6,\n",
       " 'Illinois': 45,\n",
       " 'Texas': 7,\n",
       " 'Rhode Island': 174,\n",
       " 'Oregon': 1,\n",
       " 'California': 39,\n",
       " 'New York': 19,\n",
       " 'Wisconsin': 32,\n",
       " 'Tennessee': 70,\n",
       " 'Maryland': 18,\n",
       " 'Michigan': 13,\n",
       " 'Pennsylvania': 11,\n",
       " 'Missouri': 85,\n",
       " 'Alabama': 5,\n",
       " 'Oklahoma': 119,\n",
       " 'Washington': 125,\n",
       " 'Idaho': 165,\n",
       " 'Kentucky': 34,\n",
       " 'Arkansas': 78,\n",
       " 'Connecticut': 127,\n",
       " 'Colorado': 173,\n",
       " 'Georgia': 20,\n",
       " 'Utah': 29,\n",
       " 'North Carolina': 2,\n",
       " 'Alaska': 106,\n",
       " 'Mississippi': 23,\n",
       " 'Florida': 41,\n",
       " 'West Virginia': 60,\n",
       " 'South Carolina': 64,\n",
       " 'Massachusetts': 15,\n",
       " 'Virginia': 142,\n",
       " 'Indiana': 102,\n",
       " 'Iowa': 178,\n",
       " 'Minnesota': 8,\n",
       " 'North Dakota': 135,\n",
       " 'New Mexico': 4,\n",
       " 'Nebraska': 134,\n",
       " 'Arizona': 105,\n",
       " 'Kansas': 177}"
      ]
     },
     "execution_count": 9,
     "metadata": {},
     "output_type": "execute_result"
    }
   ],
   "source": [
    "df = data.groupby(['user_state'])['user_sign_up_date'].min()\n",
    "ids = {}\n",
    "for i in data['user_state'].unique():\n",
    "    df1 = data[data['user_state'] == i]\n",
    "    df2 = df1[df1['user_sign_up_date'] == df[i]]['user_id'].iloc[0]\n",
    "    ids[i] = df2\n",
    "print('first user for each state')\n",
    "ids"
   ]
  },
  {
   "cell_type": "markdown",
   "metadata": {},
   "source": [
    "# Build a function that takes as an input any of the songs in the data and returns the most likely song to be listened next.\n",
    "That is, if, for instance, a user is currently listening to “Eight Days A Week“, which song has the highest probability of being played right after it by the same user? This is going to be V1 of a song recommendation model."
   ]
  },
  {
   "cell_type": "markdown",
   "metadata": {},
   "source": [
    "## Feature Engineering "
   ]
  },
  {
   "cell_type": "markdown",
   "metadata": {},
   "source": [
    "### Number of times song played by each user"
   ]
  },
  {
   "cell_type": "code",
   "execution_count": 10,
   "metadata": {},
   "outputs": [],
   "source": [
    "data['song_played_times'] = data.groupby(['song_played','user_id'])['day_played'].transform('count')"
   ]
  },
  {
   "cell_type": "markdown",
   "metadata": {},
   "source": [
    "### Number of times song played by all users overall"
   ]
  },
  {
   "cell_type": "code",
   "execution_count": 11,
   "metadata": {},
   "outputs": [],
   "source": [
    "data['song_played_times_overall_day'] = data.groupby(['song_played'])['day_played'].transform('count')"
   ]
  },
  {
   "cell_type": "markdown",
   "metadata": {},
   "source": [
    "### Number of times song played by each state"
   ]
  },
  {
   "cell_type": "code",
   "execution_count": 12,
   "metadata": {},
   "outputs": [],
   "source": [
    "data['song_played_times_loc'] = data.groupby(['user_state'])['song_played'].transform('count')"
   ]
  },
  {
   "cell_type": "markdown",
   "metadata": {},
   "source": [
    "### Order in which the song was played by each user by day"
   ]
  },
  {
   "cell_type": "code",
   "execution_count": 13,
   "metadata": {},
   "outputs": [],
   "source": [
    "data['dummy'] = 1\n",
    "data['song_played_order'] = data.sort_values(by = 'time_played').groupby(['user_id','day_played'])['dummy'].transform('cumsum').apply(lambda x: x)"
   ]
  },
  {
   "cell_type": "code",
   "execution_count": 14,
   "metadata": {},
   "outputs": [
    {
     "data": {
      "text/html": [
       "<div>\n",
       "<style scoped>\n",
       "    .dataframe tbody tr th:only-of-type {\n",
       "        vertical-align: middle;\n",
       "    }\n",
       "\n",
       "    .dataframe tbody tr th {\n",
       "        vertical-align: top;\n",
       "    }\n",
       "\n",
       "    .dataframe thead th {\n",
       "        text-align: right;\n",
       "    }\n",
       "</style>\n",
       "<table border=\"1\" class=\"dataframe\">\n",
       "  <thead>\n",
       "    <tr style=\"text-align: right;\">\n",
       "      <th></th>\n",
       "      <th>id</th>\n",
       "      <th>user_id</th>\n",
       "      <th>user_state</th>\n",
       "      <th>user_sign_up_date</th>\n",
       "      <th>song_played</th>\n",
       "      <th>time_played</th>\n",
       "      <th>day_played</th>\n",
       "      <th>time_of_day_played</th>\n",
       "      <th>song_played_times</th>\n",
       "      <th>song_played_times_overall_day</th>\n",
       "      <th>song_played_times_loc</th>\n",
       "      <th>song_played_order</th>\n",
       "    </tr>\n",
       "  </thead>\n",
       "  <tbody>\n",
       "    <tr>\n",
       "      <td>3669</td>\n",
       "      <td>TGATMXQGDZ</td>\n",
       "      <td>3</td>\n",
       "      <td>Ohio</td>\n",
       "      <td>2015-05-01</td>\n",
       "      <td>A Day In The Life</td>\n",
       "      <td>2015-06-01 19:18:04</td>\n",
       "      <td>2015-06-01</td>\n",
       "      <td>19:18:04</td>\n",
       "      <td>1</td>\n",
       "      <td>189</td>\n",
       "      <td>209</td>\n",
       "      <td>1</td>\n",
       "    </tr>\n",
       "    <tr>\n",
       "      <td>1245</td>\n",
       "      <td>NJSUBWRMQQ</td>\n",
       "      <td>3</td>\n",
       "      <td>Ohio</td>\n",
       "      <td>2015-05-01</td>\n",
       "      <td>Get Back</td>\n",
       "      <td>2015-06-01 20:31:49</td>\n",
       "      <td>2015-06-01</td>\n",
       "      <td>20:31:49</td>\n",
       "      <td>3</td>\n",
       "      <td>279</td>\n",
       "      <td>209</td>\n",
       "      <td>2</td>\n",
       "    </tr>\n",
       "    <tr>\n",
       "      <td>179</td>\n",
       "      <td>PBXOQQBWEA</td>\n",
       "      <td>3</td>\n",
       "      <td>Ohio</td>\n",
       "      <td>2015-05-01</td>\n",
       "      <td>Lucy In The Sky With Diamonds</td>\n",
       "      <td>2015-06-04 01:08:14</td>\n",
       "      <td>2015-06-04</td>\n",
       "      <td>01:08:14</td>\n",
       "      <td>2</td>\n",
       "      <td>113</td>\n",
       "      <td>209</td>\n",
       "      <td>1</td>\n",
       "    </tr>\n",
       "    <tr>\n",
       "      <td>3862</td>\n",
       "      <td>RKKESLRFSH</td>\n",
       "      <td>3</td>\n",
       "      <td>Ohio</td>\n",
       "      <td>2015-05-01</td>\n",
       "      <td>Hello Goodbye</td>\n",
       "      <td>2015-06-06 14:43:29</td>\n",
       "      <td>2015-06-06</td>\n",
       "      <td>14:43:29</td>\n",
       "      <td>1</td>\n",
       "      <td>161</td>\n",
       "      <td>209</td>\n",
       "      <td>1</td>\n",
       "    </tr>\n",
       "    <tr>\n",
       "      <td>1</td>\n",
       "      <td>HWKKBQKNWI</td>\n",
       "      <td>3</td>\n",
       "      <td>Ohio</td>\n",
       "      <td>2015-05-01</td>\n",
       "      <td>We Can Work It Out</td>\n",
       "      <td>2015-06-06 16:49:19</td>\n",
       "      <td>2015-06-06</td>\n",
       "      <td>16:49:19</td>\n",
       "      <td>1</td>\n",
       "      <td>99</td>\n",
       "      <td>209</td>\n",
       "      <td>2</td>\n",
       "    </tr>\n",
       "  </tbody>\n",
       "</table>\n",
       "</div>"
      ],
      "text/plain": [
       "              id  user_id user_state user_sign_up_date  \\\n",
       "3669  TGATMXQGDZ        3       Ohio        2015-05-01   \n",
       "1245  NJSUBWRMQQ        3       Ohio        2015-05-01   \n",
       "179   PBXOQQBWEA        3       Ohio        2015-05-01   \n",
       "3862  RKKESLRFSH        3       Ohio        2015-05-01   \n",
       "1     HWKKBQKNWI        3       Ohio        2015-05-01   \n",
       "\n",
       "                        song_played         time_played day_played  \\\n",
       "3669              A Day In The Life 2015-06-01 19:18:04 2015-06-01   \n",
       "1245                       Get Back 2015-06-01 20:31:49 2015-06-01   \n",
       "179   Lucy In The Sky With Diamonds 2015-06-04 01:08:14 2015-06-04   \n",
       "3862                  Hello Goodbye 2015-06-06 14:43:29 2015-06-06   \n",
       "1                We Can Work It Out 2015-06-06 16:49:19 2015-06-06   \n",
       "\n",
       "     time_of_day_played  song_played_times  song_played_times_overall_day  \\\n",
       "3669           19:18:04                  1                            189   \n",
       "1245           20:31:49                  3                            279   \n",
       "179            01:08:14                  2                            113   \n",
       "3862           14:43:29                  1                            161   \n",
       "1              16:49:19                  1                             99   \n",
       "\n",
       "      song_played_times_loc  song_played_order  \n",
       "3669                    209                  1  \n",
       "1245                    209                  2  \n",
       "179                     209                  1  \n",
       "3862                    209                  1  \n",
       "1                       209                  2  "
      ]
     },
     "execution_count": 14,
     "metadata": {},
     "output_type": "execute_result"
    }
   ],
   "source": [
    "data.drop('dummy', axis = 1, inplace = True)\n",
    "data[data['user_id'] == 3].sort_values(by = 'time_played').head()"
   ]
  },
  {
   "cell_type": "code",
   "execution_count": 15,
   "metadata": {},
   "outputs": [],
   "source": [
    "data['time_of_day_played'] = pd.to_datetime(data['time_of_day_played'])\n",
    "data['time_of_day_played'] = data['time_of_day_played'].dt.hour*3600 + data['time_of_day_played'].dt.minute*60 + data['time_of_day_played'].dt.second"
   ]
  },
  {
   "cell_type": "code",
   "execution_count": 16,
   "metadata": {},
   "outputs": [
    {
     "data": {
      "text/html": [
       "<div>\n",
       "<style scoped>\n",
       "    .dataframe tbody tr th:only-of-type {\n",
       "        vertical-align: middle;\n",
       "    }\n",
       "\n",
       "    .dataframe tbody tr th {\n",
       "        vertical-align: top;\n",
       "    }\n",
       "\n",
       "    .dataframe thead th {\n",
       "        text-align: right;\n",
       "    }\n",
       "</style>\n",
       "<table border=\"1\" class=\"dataframe\">\n",
       "  <thead>\n",
       "    <tr style=\"text-align: right;\">\n",
       "      <th></th>\n",
       "      <th>id</th>\n",
       "      <th>user_id</th>\n",
       "      <th>user_state</th>\n",
       "      <th>user_sign_up_date</th>\n",
       "      <th>song_played</th>\n",
       "      <th>time_played</th>\n",
       "      <th>day_played</th>\n",
       "      <th>time_of_day_played</th>\n",
       "      <th>song_played_times</th>\n",
       "      <th>song_played_times_overall_day</th>\n",
       "      <th>song_played_times_loc</th>\n",
       "      <th>song_played_order</th>\n",
       "    </tr>\n",
       "  </thead>\n",
       "  <tbody>\n",
       "    <tr>\n",
       "      <td>0</td>\n",
       "      <td>GOQMMKSQQH</td>\n",
       "      <td>122</td>\n",
       "      <td>Louisiana</td>\n",
       "      <td>2015-05-16</td>\n",
       "      <td>Hey Jude</td>\n",
       "      <td>2015-06-11 21:51:35</td>\n",
       "      <td>2015-06-11</td>\n",
       "      <td>78695</td>\n",
       "      <td>1</td>\n",
       "      <td>120</td>\n",
       "      <td>105</td>\n",
       "      <td>1</td>\n",
       "    </tr>\n",
       "    <tr>\n",
       "      <td>1</td>\n",
       "      <td>HWKKBQKNWI</td>\n",
       "      <td>3</td>\n",
       "      <td>Ohio</td>\n",
       "      <td>2015-05-01</td>\n",
       "      <td>We Can Work It Out</td>\n",
       "      <td>2015-06-06 16:49:19</td>\n",
       "      <td>2015-06-06</td>\n",
       "      <td>60559</td>\n",
       "      <td>1</td>\n",
       "      <td>99</td>\n",
       "      <td>209</td>\n",
       "      <td>2</td>\n",
       "    </tr>\n",
       "    <tr>\n",
       "      <td>2</td>\n",
       "      <td>DKQSXVNJDH</td>\n",
       "      <td>35</td>\n",
       "      <td>New Jersey</td>\n",
       "      <td>2015-05-04</td>\n",
       "      <td>Back In the U.S.S.R.</td>\n",
       "      <td>2015-06-14 02:11:29</td>\n",
       "      <td>2015-06-14</td>\n",
       "      <td>7889</td>\n",
       "      <td>2</td>\n",
       "      <td>163</td>\n",
       "      <td>117</td>\n",
       "      <td>1</td>\n",
       "    </tr>\n",
       "    <tr>\n",
       "      <td>3</td>\n",
       "      <td>HLHRIDQTUW</td>\n",
       "      <td>126</td>\n",
       "      <td>Illinois</td>\n",
       "      <td>2015-05-16</td>\n",
       "      <td>P.s. I Love You</td>\n",
       "      <td>2015-06-08 12:26:10</td>\n",
       "      <td>2015-06-08</td>\n",
       "      <td>44770</td>\n",
       "      <td>1</td>\n",
       "      <td>6</td>\n",
       "      <td>149</td>\n",
       "      <td>1</td>\n",
       "    </tr>\n",
       "    <tr>\n",
       "      <td>4</td>\n",
       "      <td>SUKJCSBCYW</td>\n",
       "      <td>6</td>\n",
       "      <td>New Jersey</td>\n",
       "      <td>2015-05-01</td>\n",
       "      <td>Sgt. Pepper's Lonely Hearts Club Band</td>\n",
       "      <td>2015-06-28 14:57:00</td>\n",
       "      <td>2015-06-28</td>\n",
       "      <td>53820</td>\n",
       "      <td>1</td>\n",
       "      <td>8</td>\n",
       "      <td>117</td>\n",
       "      <td>1</td>\n",
       "    </tr>\n",
       "  </tbody>\n",
       "</table>\n",
       "</div>"
      ],
      "text/plain": [
       "           id  user_id  user_state user_sign_up_date  \\\n",
       "0  GOQMMKSQQH      122   Louisiana        2015-05-16   \n",
       "1  HWKKBQKNWI        3        Ohio        2015-05-01   \n",
       "2  DKQSXVNJDH       35  New Jersey        2015-05-04   \n",
       "3  HLHRIDQTUW      126    Illinois        2015-05-16   \n",
       "4  SUKJCSBCYW        6  New Jersey        2015-05-01   \n",
       "\n",
       "                             song_played         time_played day_played  \\\n",
       "0                               Hey Jude 2015-06-11 21:51:35 2015-06-11   \n",
       "1                     We Can Work It Out 2015-06-06 16:49:19 2015-06-06   \n",
       "2                   Back In the U.S.S.R. 2015-06-14 02:11:29 2015-06-14   \n",
       "3                        P.s. I Love You 2015-06-08 12:26:10 2015-06-08   \n",
       "4  Sgt. Pepper's Lonely Hearts Club Band 2015-06-28 14:57:00 2015-06-28   \n",
       "\n",
       "   time_of_day_played  song_played_times  song_played_times_overall_day  \\\n",
       "0               78695                  1                            120   \n",
       "1               60559                  1                             99   \n",
       "2                7889                  2                            163   \n",
       "3               44770                  1                              6   \n",
       "4               53820                  1                              8   \n",
       "\n",
       "   song_played_times_loc  song_played_order  \n",
       "0                    105                  1  \n",
       "1                    209                  2  \n",
       "2                    117                  1  \n",
       "3                    149                  1  \n",
       "4                    117                  1  "
      ]
     },
     "execution_count": 16,
     "metadata": {},
     "output_type": "execute_result"
    }
   ],
   "source": [
    "data.head()"
   ]
  },
  {
   "cell_type": "markdown",
   "metadata": {},
   "source": [
    "### difference between sign up day and first played"
   ]
  },
  {
   "cell_type": "code",
   "execution_count": 192,
   "metadata": {},
   "outputs": [],
   "source": [
    "data['first_played'] = data.groupby('user_id')['day_played'].transform('min')\n",
    "data['sign_up_to_first_played'] = (data['first_played'] - data['day_played']).astype(int)"
   ]
  },
  {
   "cell_type": "markdown",
   "metadata": {},
   "source": [
    "## Model"
   ]
  },
  {
   "cell_type": "code",
   "execution_count": 193,
   "metadata": {},
   "outputs": [],
   "source": [
    "df = data.drop(['user_sign_up_date','time_played',\n",
    "                'day_played','song_played','first_played','id'], axis = 1)\n",
    "le = preprocessing.LabelEncoder()\n",
    "y = data['song_played']\n",
    "le.fit(y)\n",
    "y = le.transform(y)"
   ]
  },
  {
   "cell_type": "markdown",
   "metadata": {},
   "source": [
    "### Training"
   ]
  },
  {
   "cell_type": "code",
   "execution_count": 194,
   "metadata": {},
   "outputs": [
    {
     "data": {
      "text/plain": [
       "AdaBoostClassifier(algorithm='SAMME.R',\n",
       "                   base_estimator=DecisionTreeClassifier(class_weight=None,\n",
       "                                                         criterion='gini',\n",
       "                                                         max_depth=10,\n",
       "                                                         max_features=None,\n",
       "                                                         max_leaf_nodes=None,\n",
       "                                                         min_impurity_decrease=0.0,\n",
       "                                                         min_impurity_split=None,\n",
       "                                                         min_samples_leaf=1,\n",
       "                                                         min_samples_split=2,\n",
       "                                                         min_weight_fraction_leaf=0.0,\n",
       "                                                         presort=False,\n",
       "                                                         random_state=None,\n",
       "                                                         splitter='best'),\n",
       "                   learning_rate=1.0, n_estimators=100, random_state=42)"
      ]
     },
     "execution_count": 194,
     "metadata": {},
     "output_type": "execute_result"
    }
   ],
   "source": [
    "X_train, X_test, y_train, y_test = train_test_split(pd.get_dummies(df), \n",
    "                                                    y, random_state=42, test_size = 0.33)\n",
    "rfc =  AdaBoostClassifier(n_estimators=100, random_state=42,\n",
    "                         base_estimator = DecisionTreeClassifier(max_depth = 10))\n",
    "rfc.fit(X_train, y_train)"
   ]
  },
  {
   "cell_type": "markdown",
   "metadata": {},
   "source": [
    "### Predicting"
   ]
  },
  {
   "cell_type": "code",
   "execution_count": 195,
   "metadata": {},
   "outputs": [],
   "source": [
    "y_pred = rfc.predict(X_test)"
   ]
  },
  {
   "cell_type": "code",
   "execution_count": 196,
   "metadata": {},
   "outputs": [
    {
     "data": {
      "text/plain": [
       "0.8333333333333334"
      ]
     },
     "execution_count": 196,
     "metadata": {},
     "output_type": "execute_result"
    }
   ],
   "source": [
    "rfc.score(X_test, y_test)"
   ]
  },
  {
   "cell_type": "code",
   "execution_count": 198,
   "metadata": {},
   "outputs": [],
   "source": [
    "predictions = pd.DataFrame()\n",
    "predictions['Guessed Song'] = le.inverse_transform(y_pred)\n",
    "predictions['Actual Song'] = le.inverse_transform(y_test)\n",
    "predictions.to_csv('predictions.csv')"
   ]
  },
  {
   "cell_type": "markdown",
   "metadata": {},
   "source": [
    "### Score\n",
    "How would you set up a test to check whether your model works well?"
   ]
  },
  {
   "cell_type": "code",
   "execution_count": 199,
   "metadata": {},
   "outputs": [
    {
     "name": "stderr",
     "output_type": "stream",
     "text": [
      "/opt/anaconda3/lib/python3.7/site-packages/sklearn/metrics/classification.py:1437: UndefinedMetricWarning: F-score is ill-defined and being set to 0.0 in labels with no predicted samples.\n",
      "  'precision', 'predicted', average, warn_for)\n",
      "/opt/anaconda3/lib/python3.7/site-packages/sklearn/metrics/classification.py:1439: UndefinedMetricWarning: F-score is ill-defined and being set to 0.0 in labels with no true samples.\n",
      "  'recall', 'true', average, warn_for)\n"
     ]
    },
    {
     "data": {
      "text/plain": [
       "0.8308758084166559"
      ]
     },
     "execution_count": 199,
     "metadata": {},
     "output_type": "execute_result"
    }
   ],
   "source": [
    "f1_score(y_test, y_pred, average='weighted')"
   ]
  }
 ],
 "metadata": {
  "kernelspec": {
   "display_name": "Python 3",
   "language": "python",
   "name": "python3"
  },
  "language_info": {
   "codemirror_mode": {
    "name": "ipython",
    "version": 3
   },
   "file_extension": ".py",
   "mimetype": "text/x-python",
   "name": "python",
   "nbconvert_exporter": "python",
   "pygments_lexer": "ipython3",
   "version": "3.7.4"
  },
  "latex_envs": {
   "LaTeX_envs_menu_present": true,
   "autoclose": false,
   "autocomplete": true,
   "bibliofile": "biblio.bib",
   "cite_by": "apalike",
   "current_citInitial": 1,
   "eqLabelWithNumbers": true,
   "eqNumInitial": 1,
   "hotkeys": {
    "equation": "Ctrl-E",
    "itemize": "Ctrl-I"
   },
   "labels_anchors": false,
   "latex_user_defs": false,
   "report_style_numbering": false,
   "user_envs_cfg": false
  },
  "toc": {
   "base_numbering": 1,
   "nav_menu": {},
   "number_sections": true,
   "sideBar": true,
   "skip_h1_title": false,
   "title_cell": "Table of Contents",
   "title_sidebar": "Contents",
   "toc_cell": false,
   "toc_position": {
    "height": "calc(100% - 180px)",
    "left": "10px",
    "top": "150px",
    "width": "360px"
   },
   "toc_section_display": true,
   "toc_window_display": true
  }
 },
 "nbformat": 4,
 "nbformat_minor": 2
}
