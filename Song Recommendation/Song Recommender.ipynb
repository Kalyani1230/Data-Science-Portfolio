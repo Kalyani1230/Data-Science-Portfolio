{
 "cells": [
  {
   "cell_type": "markdown",
   "metadata": {},
   "source": [
    "# Main"
   ]
  },
  {
   "cell_type": "code",
   "execution_count": 87,
   "metadata": {},
   "outputs": [],
   "source": [
    "'''Main Libraries'''\n",
    "import numpy as np\n",
    "import pandas as pd\n",
    "\n",
    "'''Datetime'''\n",
    "import time\n",
    "from datetime import datetime\n",
    "from dateutil.parser import parse\n",
    "\n",
    "'''Modeling'''\n",
    "from sklearn.model_selection import train_test_split\n",
    "from sklearn import preprocessing\n",
    "from sklearn.tree import DecisionTreeClassifier\n",
    "from sklearn.ensemble import AdaBoostClassifier\n",
    "from sklearn.metrics import f1_score\n",
    "\n",
    "'''Visualization'''\n",
    "import matplotlib.pyplot as plt"
   ]
  },
  {
   "cell_type": "markdown",
   "metadata": {},
   "source": [
    "## Uplaod data \n",
    "Converting from json to pandas dataframe"
   ]
  },
  {
   "cell_type": "code",
   "execution_count": 88,
   "metadata": {},
   "outputs": [],
   "source": [
    "data = pd.read_json (r'song.json')"
   ]
  },
  {
   "cell_type": "markdown",
   "metadata": {},
   "source": [
    "### Data Preview"
   ]
  },
  {
   "cell_type": "code",
   "execution_count": 89,
   "metadata": {},
   "outputs": [
    {
     "data": {
      "text/html": [
       "<div>\n",
       "<style scoped>\n",
       "    .dataframe tbody tr th:only-of-type {\n",
       "        vertical-align: middle;\n",
       "    }\n",
       "\n",
       "    .dataframe tbody tr th {\n",
       "        vertical-align: top;\n",
       "    }\n",
       "\n",
       "    .dataframe thead th {\n",
       "        text-align: right;\n",
       "    }\n",
       "</style>\n",
       "<table border=\"1\" class=\"dataframe\">\n",
       "  <thead>\n",
       "    <tr style=\"text-align: right;\">\n",
       "      <th></th>\n",
       "      <th>id</th>\n",
       "      <th>user_id</th>\n",
       "      <th>user_state</th>\n",
       "      <th>user_sign_up_date</th>\n",
       "      <th>song_played</th>\n",
       "      <th>time_played</th>\n",
       "    </tr>\n",
       "  </thead>\n",
       "  <tbody>\n",
       "    <tr>\n",
       "      <td>0</td>\n",
       "      <td>GOQMMKSQQH</td>\n",
       "      <td>122</td>\n",
       "      <td>Louisiana</td>\n",
       "      <td>2015-05-16</td>\n",
       "      <td>Hey Jude</td>\n",
       "      <td>2015-06-11 21:51:35</td>\n",
       "    </tr>\n",
       "    <tr>\n",
       "      <td>1</td>\n",
       "      <td>HWKKBQKNWI</td>\n",
       "      <td>3</td>\n",
       "      <td>Ohio</td>\n",
       "      <td>2015-05-01</td>\n",
       "      <td>We Can Work It Out</td>\n",
       "      <td>2015-06-06 16:49:19</td>\n",
       "    </tr>\n",
       "    <tr>\n",
       "      <td>2</td>\n",
       "      <td>DKQSXVNJDH</td>\n",
       "      <td>35</td>\n",
       "      <td>New Jersey</td>\n",
       "      <td>2015-05-04</td>\n",
       "      <td>Back In the U.S.S.R.</td>\n",
       "      <td>2015-06-14 02:11:29</td>\n",
       "    </tr>\n",
       "    <tr>\n",
       "      <td>3</td>\n",
       "      <td>HLHRIDQTUW</td>\n",
       "      <td>126</td>\n",
       "      <td>Illinois</td>\n",
       "      <td>2015-05-16</td>\n",
       "      <td>P.s. I Love You</td>\n",
       "      <td>2015-06-08 12:26:10</td>\n",
       "    </tr>\n",
       "    <tr>\n",
       "      <td>4</td>\n",
       "      <td>SUKJCSBCYW</td>\n",
       "      <td>6</td>\n",
       "      <td>New Jersey</td>\n",
       "      <td>2015-05-01</td>\n",
       "      <td>Sgt. Pepper's Lonely Hearts Club Band</td>\n",
       "      <td>2015-06-28 14:57:00</td>\n",
       "    </tr>\n",
       "  </tbody>\n",
       "</table>\n",
       "</div>"
      ],
      "text/plain": [
       "           id  user_id  user_state user_sign_up_date  \\\n",
       "0  GOQMMKSQQH      122   Louisiana        2015-05-16   \n",
       "1  HWKKBQKNWI        3        Ohio        2015-05-01   \n",
       "2  DKQSXVNJDH       35  New Jersey        2015-05-04   \n",
       "3  HLHRIDQTUW      126    Illinois        2015-05-16   \n",
       "4  SUKJCSBCYW        6  New Jersey        2015-05-01   \n",
       "\n",
       "                             song_played          time_played  \n",
       "0                               Hey Jude  2015-06-11 21:51:35  \n",
       "1                     We Can Work It Out  2015-06-06 16:49:19  \n",
       "2                   Back In the U.S.S.R.  2015-06-14 02:11:29  \n",
       "3                        P.s. I Love You  2015-06-08 12:26:10  \n",
       "4  Sgt. Pepper's Lonely Hearts Club Band  2015-06-28 14:57:00  "
      ]
     },
     "execution_count": 89,
     "metadata": {},
     "output_type": "execute_result"
    }
   ],
   "source": [
    "data.head()"
   ]
  },
  {
   "cell_type": "code",
   "execution_count": 90,
   "metadata": {},
   "outputs": [
    {
     "data": {
      "text/html": [
       "<div>\n",
       "<style scoped>\n",
       "    .dataframe tbody tr th:only-of-type {\n",
       "        vertical-align: middle;\n",
       "    }\n",
       "\n",
       "    .dataframe tbody tr th {\n",
       "        vertical-align: top;\n",
       "    }\n",
       "\n",
       "    .dataframe thead th {\n",
       "        text-align: right;\n",
       "    }\n",
       "</style>\n",
       "<table border=\"1\" class=\"dataframe\">\n",
       "  <thead>\n",
       "    <tr style=\"text-align: right;\">\n",
       "      <th></th>\n",
       "      <th>user_id</th>\n",
       "    </tr>\n",
       "  </thead>\n",
       "  <tbody>\n",
       "    <tr>\n",
       "      <td>count</td>\n",
       "      <td>4000.000000</td>\n",
       "    </tr>\n",
       "    <tr>\n",
       "      <td>mean</td>\n",
       "      <td>101.574000</td>\n",
       "    </tr>\n",
       "    <tr>\n",
       "      <td>std</td>\n",
       "      <td>58.766835</td>\n",
       "    </tr>\n",
       "    <tr>\n",
       "      <td>min</td>\n",
       "      <td>1.000000</td>\n",
       "    </tr>\n",
       "    <tr>\n",
       "      <td>25%</td>\n",
       "      <td>48.000000</td>\n",
       "    </tr>\n",
       "    <tr>\n",
       "      <td>50%</td>\n",
       "      <td>102.000000</td>\n",
       "    </tr>\n",
       "    <tr>\n",
       "      <td>75%</td>\n",
       "      <td>155.000000</td>\n",
       "    </tr>\n",
       "    <tr>\n",
       "      <td>max</td>\n",
       "      <td>200.000000</td>\n",
       "    </tr>\n",
       "  </tbody>\n",
       "</table>\n",
       "</div>"
      ],
      "text/plain": [
       "           user_id\n",
       "count  4000.000000\n",
       "mean    101.574000\n",
       "std      58.766835\n",
       "min       1.000000\n",
       "25%      48.000000\n",
       "50%     102.000000\n",
       "75%     155.000000\n",
       "max     200.000000"
      ]
     },
     "execution_count": 90,
     "metadata": {},
     "output_type": "execute_result"
    }
   ],
   "source": [
    "data.describe()"
   ]
  },
  {
   "cell_type": "code",
   "execution_count": 91,
   "metadata": {},
   "outputs": [
    {
     "data": {
      "text/plain": [
       "array([122,   3,  35, 126,   6, 147, 155, 171, 174, 170, 110, 185, 137,\n",
       "       121,  77,  79,  58, 130,  11,  99, 150, 114,  97, 159,  85,  31,\n",
       "        18, 188, 138, 182,  42, 175, 115, 165, 162, 184,  34,  46,  72,\n",
       "       124, 193, 127, 181,  86,  32, 140, 194,  90,  51,  19, 158, 195,\n",
       "        52,  23,  41, 163,  98,  22,  60,  94, 112,  70, 199, 192,  96,\n",
       "        45,  53,  14,  76,  91, 169,  47,  65,  25,  56,  54,  13,  15,\n",
       "       125,  49, 144, 107,   5, 116, 156, 120, 176, 106, 179, 141, 117,\n",
       "       173, 189,  30, 111,  75,  55,  64,  69, 131, 160, 146, 196, 164,\n",
       "        62,  20, 183, 148, 108, 178,  95, 102,  87, 153,  33, 132,   7,\n",
       "        57,  27,   2, 172, 119,  80,   9, 143,  12,  89, 167,  68, 100,\n",
       "        88, 135, 123, 151, 161,  78,  16,  10, 200,   4,  73,  40,  37,\n",
       "       166, 198,  29, 190,   1,  92, 134, 105, 136,  39, 145,  43,  17,\n",
       "        26, 180,  81,  44,  67, 113, 152,  38,  24,  84,  82,  71, 157,\n",
       "       186, 118, 101, 104,  66,  74, 109, 197, 177, 128,  36, 149, 154,\n",
       "        48, 129, 142, 191,  59, 133,   8, 187,  93,  61, 103,  50,  63,\n",
       "        21])"
      ]
     },
     "execution_count": 91,
     "metadata": {},
     "output_type": "execute_result"
    }
   ],
   "source": [
    "data['user_id'].unique()"
   ]
  },
  {
   "cell_type": "markdown",
   "metadata": {},
   "source": [
    "## Date-time formatting"
   ]
  },
  {
   "cell_type": "code",
   "execution_count": 92,
   "metadata": {},
   "outputs": [
    {
     "data": {
      "text/html": [
       "<div>\n",
       "<style scoped>\n",
       "    .dataframe tbody tr th:only-of-type {\n",
       "        vertical-align: middle;\n",
       "    }\n",
       "\n",
       "    .dataframe tbody tr th {\n",
       "        vertical-align: top;\n",
       "    }\n",
       "\n",
       "    .dataframe thead th {\n",
       "        text-align: right;\n",
       "    }\n",
       "</style>\n",
       "<table border=\"1\" class=\"dataframe\">\n",
       "  <thead>\n",
       "    <tr style=\"text-align: right;\">\n",
       "      <th></th>\n",
       "      <th>id</th>\n",
       "      <th>user_id</th>\n",
       "      <th>user_state</th>\n",
       "      <th>user_sign_up_date</th>\n",
       "      <th>song_played</th>\n",
       "      <th>time_played</th>\n",
       "      <th>day_played</th>\n",
       "      <th>time_of_day_played</th>\n",
       "    </tr>\n",
       "  </thead>\n",
       "  <tbody>\n",
       "    <tr>\n",
       "      <td>0</td>\n",
       "      <td>GOQMMKSQQH</td>\n",
       "      <td>122</td>\n",
       "      <td>Louisiana</td>\n",
       "      <td>2015-05-16</td>\n",
       "      <td>Hey Jude</td>\n",
       "      <td>2015-06-11 21:51:35</td>\n",
       "      <td>2015-06-11</td>\n",
       "      <td>21:51:35</td>\n",
       "    </tr>\n",
       "    <tr>\n",
       "      <td>1</td>\n",
       "      <td>HWKKBQKNWI</td>\n",
       "      <td>3</td>\n",
       "      <td>Ohio</td>\n",
       "      <td>2015-05-01</td>\n",
       "      <td>We Can Work It Out</td>\n",
       "      <td>2015-06-06 16:49:19</td>\n",
       "      <td>2015-06-06</td>\n",
       "      <td>16:49:19</td>\n",
       "    </tr>\n",
       "    <tr>\n",
       "      <td>2</td>\n",
       "      <td>DKQSXVNJDH</td>\n",
       "      <td>35</td>\n",
       "      <td>New Jersey</td>\n",
       "      <td>2015-05-04</td>\n",
       "      <td>Back In the U.S.S.R.</td>\n",
       "      <td>2015-06-14 02:11:29</td>\n",
       "      <td>2015-06-14</td>\n",
       "      <td>02:11:29</td>\n",
       "    </tr>\n",
       "    <tr>\n",
       "      <td>3</td>\n",
       "      <td>HLHRIDQTUW</td>\n",
       "      <td>126</td>\n",
       "      <td>Illinois</td>\n",
       "      <td>2015-05-16</td>\n",
       "      <td>P.s. I Love You</td>\n",
       "      <td>2015-06-08 12:26:10</td>\n",
       "      <td>2015-06-08</td>\n",
       "      <td>12:26:10</td>\n",
       "    </tr>\n",
       "    <tr>\n",
       "      <td>4</td>\n",
       "      <td>SUKJCSBCYW</td>\n",
       "      <td>6</td>\n",
       "      <td>New Jersey</td>\n",
       "      <td>2015-05-01</td>\n",
       "      <td>Sgt. Pepper's Lonely Hearts Club Band</td>\n",
       "      <td>2015-06-28 14:57:00</td>\n",
       "      <td>2015-06-28</td>\n",
       "      <td>14:57:00</td>\n",
       "    </tr>\n",
       "  </tbody>\n",
       "</table>\n",
       "</div>"
      ],
      "text/plain": [
       "           id  user_id  user_state user_sign_up_date  \\\n",
       "0  GOQMMKSQQH      122   Louisiana        2015-05-16   \n",
       "1  HWKKBQKNWI        3        Ohio        2015-05-01   \n",
       "2  DKQSXVNJDH       35  New Jersey        2015-05-04   \n",
       "3  HLHRIDQTUW      126    Illinois        2015-05-16   \n",
       "4  SUKJCSBCYW        6  New Jersey        2015-05-01   \n",
       "\n",
       "                             song_played         time_played day_played  \\\n",
       "0                               Hey Jude 2015-06-11 21:51:35 2015-06-11   \n",
       "1                     We Can Work It Out 2015-06-06 16:49:19 2015-06-06   \n",
       "2                   Back In the U.S.S.R. 2015-06-14 02:11:29 2015-06-14   \n",
       "3                        P.s. I Love You 2015-06-08 12:26:10 2015-06-08   \n",
       "4  Sgt. Pepper's Lonely Hearts Club Band 2015-06-28 14:57:00 2015-06-28   \n",
       "\n",
       "  time_of_day_played  \n",
       "0           21:51:35  \n",
       "1           16:49:19  \n",
       "2           02:11:29  \n",
       "3           12:26:10  \n",
       "4           14:57:00  "
      ]
     },
     "execution_count": 92,
     "metadata": {},
     "output_type": "execute_result"
    }
   ],
   "source": [
    "data['user_sign_up_date'] =  pd.to_datetime(data['user_sign_up_date'])\n",
    "data['time_played'] = pd.to_datetime(data['time_played'])\n",
    "data['day_played'] = pd.to_datetime(data['time_played'].apply(lambda x: str(x).split()[0]))\n",
    "data['time_of_day_played'] = data['time_played'].apply(lambda x: str(x).split(' ')[1])\n",
    "data.head()"
   ]
  },
  {
   "cell_type": "code",
   "execution_count": null,
   "metadata": {},
   "outputs": [],
   "source": []
  },
  {
   "cell_type": "markdown",
   "metadata": {},
   "source": [
    "# What are the top 3 and the bottom 3 states in terms number of users?"
   ]
  },
  {
   "cell_type": "code",
   "execution_count": 93,
   "metadata": {},
   "outputs": [
    {
     "name": "stderr",
     "output_type": "stream",
     "text": [
      "/opt/anaconda3/lib/python3.7/site-packages/ipykernel_launcher.py:2: FutureWarning: using a dict on a Series for aggregation\n",
      "is deprecated and will be removed in a future version. Use                 named aggregation instead.\n",
      "\n",
      "    >>> grouper.agg(name_1=func_1, name_2=func_2)\n",
      "\n",
      "  \n"
     ]
    }
   ],
   "source": [
    "x = data.groupby(['user_state'])['user_id'].agg({'users_per_state': lambda x: len(x.unique()),\n",
    "                                                'total_acitivity_per_state': lambda x: len(x)})"
   ]
  },
  {
   "cell_type": "code",
   "execution_count": 94,
   "metadata": {},
   "outputs": [
    {
     "name": "stdout",
     "output_type": "stream",
     "text": [
      "States with the most number of users\n",
      "-------------------------------------\n",
      "user_state\n",
      "New York      23\n",
      "California    21\n",
      "Texas         15\n",
      "Name: users_per_state, dtype: int64\n",
      "States with the most number of users\n",
      "-------------------------------------\n",
      "user_state\n",
      "Arizona        1\n",
      "Connecticut    1\n",
      "Idaho          1\n",
      "Name: users_per_state, dtype: int64\n"
     ]
    }
   ],
   "source": [
    "print('States with the most number of users')\n",
    "print('-------------------------------------')\n",
    "print(x['users_per_state'].nlargest(3))\n",
    "print('States with the most number of users')\n",
    "print('-------------------------------------')\n",
    "print(x['users_per_state'].nsmallest(3))"
   ]
  },
  {
   "cell_type": "code",
   "execution_count": 95,
   "metadata": {},
   "outputs": [
    {
     "data": {
      "text/plain": [
       "<matplotlib.axes._subplots.AxesSubplot at 0x1a1e38c450>"
      ]
     },
     "execution_count": 95,
     "metadata": {},
     "output_type": "execute_result"
    },
    {
     "data": {
      "image/png": "[encoded data removed]",
      "text/plain": [
       "<Figure size 720x360 with 1 Axes>"
      ]
     },
     "metadata": {
      "needs_background": "light"
     },
     "output_type": "display_data"
    }
   ],
   "source": [
    "x['users_per_state'].nlargest(10).plot.bar(figsize = (10,5))"
   ]
  },
  {
   "cell_type": "code",
   "execution_count": 96,
   "metadata": {},
   "outputs": [
    {
     "data": {
      "text/plain": [
       "<matplotlib.axes._subplots.AxesSubplot at 0x1a1e7eed10>"
      ]
     },
     "execution_count": 96,
     "metadata": {},
     "output_type": "execute_result"
    },
    {
     "data": {
      "image/png": "[encoded data removed]",
      "text/plain": [
       "<Figure size 720x360 with 1 Axes>"
      ]
     },
     "metadata": {
      "needs_background": "light"
     },
     "output_type": "display_data"
    }
   ],
   "source": [
    "data.groupby(['user_state'])['user_id'].count().sort_values().nsmallest(10).plot.bar(figsize = (10,5))"
   ]
  },
  {
   "cell_type": "markdown",
   "metadata": {},
   "source": [
    "# What are the top 3 and the bottom 3 states in terms of user engagement? You can choose how to mathematically define user engagement. What the CEO cares about here is in which states users are using the product a lot/very little."
   ]
  },
  {
   "cell_type": "code",
   "execution_count": 97,
   "metadata": {},
   "outputs": [
    {
     "data": {
      "text/plain": [
       "user_state\n",
       "New York      469\n",
       "California    425\n",
       "Texas         230\n",
       "Name: total_acitivity_per_state, dtype: int64"
      ]
     },
     "execution_count": 97,
     "metadata": {},
     "output_type": "execute_result"
    }
   ],
   "source": [
    "x['total_acitivity_per_state'].nlargest(3)"
   ]
  },
  {
   "cell_type": "code",
   "execution_count": 98,
   "metadata": {},
   "outputs": [
    {
     "data": {
      "text/plain": [
       "<matplotlib.axes._subplots.AxesSubplot at 0x1a1e7fe950>"
      ]
     },
     "execution_count": 98,
     "metadata": {},
     "output_type": "execute_result"
    },
    {
     "data": {
      "image/png": "[encoded data removed]",
      "text/plain": [
       "<Figure size 720x360 with 1 Axes>"
      ]
     },
     "metadata": {
      "needs_background": "light"
     },
     "output_type": "display_data"
    }
   ],
   "source": [
    "x['total_acitivity_per_state'].nlargest(10).plot.bar(figsize = (10,5))"
   ]
  },
  {
   "cell_type": "code",
   "execution_count": 99,
   "metadata": {},
   "outputs": [
    {
     "data": {
      "text/plain": [
       "user_state\n",
       "Kansas          8\n",
       "Connecticut    16\n",
       "New Mexico     17\n",
       "Name: total_acitivity_per_state, dtype: int64"
      ]
     },
     "execution_count": 99,
     "metadata": {},
     "output_type": "execute_result"
    }
   ],
   "source": [
    "x['total_acitivity_per_state'].nsmallest(3)"
   ]
  },
  {
   "cell_type": "code",
   "execution_count": 100,
   "metadata": {},
   "outputs": [
    {
     "data": {
      "text/plain": [
       "<matplotlib.axes._subplots.AxesSubplot at 0x1a1eecde50>"
      ]
     },
     "execution_count": 100,
     "metadata": {},
     "output_type": "execute_result"
    },
    {
     "data": {
      "image/png": "[encoded data removed]",
      "text/plain": [
       "<Figure size 720x360 with 1 Axes>"
      ]
     },
     "metadata": {
      "needs_background": "light"
     },
     "output_type": "display_data"
    }
   ],
   "source": [
    "x['total_acitivity_per_state'].nsmallest(10).plot.bar(figsize = (10,5))"
   ]
  },
  {
   "cell_type": "markdown",
   "metadata": {},
   "source": [
    "# The CEO wants to send a gift to the first user who signed-up for each state. That is, the first user who signed-up from California, from Oregon, etc. Can you give him a list of those users?"
   ]
  },
  {
   "cell_type": "code",
   "execution_count": 101,
   "metadata": {},
   "outputs": [
    {
     "name": "stdout",
     "output_type": "stream",
     "text": [
      "First user for each state\n"
     ]
    },
    {
     "data": {
      "text/plain": [
       "{'Louisiana': 50,\n",
       " 'Ohio': 3,\n",
       " 'New Jersey': 6,\n",
       " 'Illinois': 45,\n",
       " 'Texas': 7,\n",
       " 'Rhode Island': 174,\n",
       " 'Oregon': 1,\n",
       " 'California': 39,\n",
       " 'New York': 19,\n",
       " 'Wisconsin': 32,\n",
       " 'Tennessee': 70,\n",
       " 'Maryland': 18,\n",
       " 'Michigan': 13,\n",
       " 'Pennsylvania': 11,\n",
       " 'Missouri': 85,\n",
       " 'Alabama': 5,\n",
       " 'Oklahoma': 119,\n",
       " 'Washington': 125,\n",
       " 'Idaho': 165,\n",
       " 'Kentucky': 34,\n",
       " 'Arkansas': 78,\n",
       " 'Connecticut': 127,\n",
       " 'Colorado': 173,\n",
       " 'Georgia': 20,\n",
       " 'Utah': 29,\n",
       " 'North Carolina': 2,\n",
       " 'Alaska': 106,\n",
       " 'Mississippi': 23,\n",
       " 'Florida': 41,\n",
       " 'West Virginia': 60,\n",
       " 'South Carolina': 64,\n",
       " 'Massachusetts': 15,\n",
       " 'Virginia': 142,\n",
       " 'Indiana': 102,\n",
       " 'Iowa': 178,\n",
       " 'Minnesota': 8,\n",
       " 'North Dakota': 135,\n",
       " 'New Mexico': 4,\n",
       " 'Nebraska': 134,\n",
       " 'Arizona': 105,\n",
       " 'Kansas': 177}"
      ]
     },
     "execution_count": 101,
     "metadata": {},
     "output_type": "execute_result"
    }
   ],
   "source": [
    "df = data.groupby(['user_state'])['user_sign_up_date'].min()\n",
    "ids = {}\n",
    "for i in data['user_state'].unique():\n",
    "    df1 = data[data['user_state'] == i]\n",
    "    df2 = df1[df1['user_sign_up_date'] == df[i]]['user_id'].iloc[0]\n",
    "    ids[i] = df2\n",
    "print('First user for each state')\n",
    "ids"
   ]
  },
  {
   "cell_type": "markdown",
   "metadata": {},
   "source": [
    "# Build a function that takes as an input any of the songs in the data and returns the most likely song to be listened next.\n",
    "That is, if, for instance, a user is currently listening to “Eight Days A Week“, which song has the highest probability of being played right after it by the same user? This is going to be V1 of a song recommendation model."
   ]
  },
  {
   "cell_type": "markdown",
   "metadata": {},
   "source": [
    "## Feature Engineering "
   ]
  },
  {
   "cell_type": "markdown",
   "metadata": {},
   "source": [
    "### Number of times song played by each user"
   ]
  },
  {
   "cell_type": "code",
   "execution_count": 102,
   "metadata": {},
   "outputs": [],
   "source": [
    "data['song_played_times'] = data.groupby(['song_played','user_id'])['day_played'].transform('count')"
   ]
  },
  {
   "cell_type": "markdown",
   "metadata": {},
   "source": [
    "### Number of times song played by all users overall"
   ]
  },
  {
   "cell_type": "code",
   "execution_count": 103,
   "metadata": {},
   "outputs": [],
   "source": [
    "data['song_played_times_overall_day'] = data.groupby(['song_played'])['day_played'].transform('count')"
   ]
  },
  {
   "cell_type": "markdown",
   "metadata": {},
   "source": [
    "### Number of times song played by each state"
   ]
  },
  {
   "cell_type": "code",
   "execution_count": 104,
   "metadata": {},
   "outputs": [],
   "source": [
    "data['song_played_times_loc'] = data.groupby(['user_state'])['song_played'].transform('count')"
   ]
  },
  {
   "cell_type": "markdown",
   "metadata": {},
   "source": [
    "### Order in which the song was played by each user by day"
   ]
  },
  {
   "cell_type": "code",
   "execution_count": 105,
   "metadata": {},
   "outputs": [],
   "source": [
    "data['dummy'] = 1\n",
    "data['song_played_order'] = data.sort_values(by = 'time_played').groupby(['user_id','day_played'])['dummy'].transform('cumsum').apply(lambda x: x)"
   ]
  },
  {
   "cell_type": "code",
   "execution_count": 106,
   "metadata": {},
   "outputs": [
    {
     "data": {
      "text/html": [
       "<div>\n",
       "<style scoped>\n",
       "    .dataframe tbody tr th:only-of-type {\n",
       "        vertical-align: middle;\n",
       "    }\n",
       "\n",
       "    .dataframe tbody tr th {\n",
       "        vertical-align: top;\n",
       "    }\n",
       "\n",
       "    .dataframe thead th {\n",
       "        text-align: right;\n",
       "    }\n",
       "</style>\n",
       "<table border=\"1\" class=\"dataframe\">\n",
       "  <thead>\n",
       "    <tr style=\"text-align: right;\">\n",
       "      <th></th>\n",
       "      <th>id</th>\n",
       "      <th>user_id</th>\n",
       "      <th>user_state</th>\n",
       "      <th>user_sign_up_date</th>\n",
       "      <th>song_played</th>\n",
       "      <th>time_played</th>\n",
       "      <th>day_played</th>\n",
       "      <th>time_of_day_played</th>\n",
       "      <th>song_played_times</th>\n",
       "      <th>song_played_times_overall_day</th>\n",
       "      <th>song_played_times_loc</th>\n",
       "      <th>song_played_order</th>\n",
       "    </tr>\n",
       "  </thead>\n",
       "  <tbody>\n",
       "    <tr>\n",
       "      <td>3669</td>\n",
       "      <td>TGATMXQGDZ</td>\n",
       "      <td>3</td>\n",
       "      <td>Ohio</td>\n",
       "      <td>2015-05-01</td>\n",
       "      <td>A Day In The Life</td>\n",
       "      <td>2015-06-01 19:18:04</td>\n",
       "      <td>2015-06-01</td>\n",
       "      <td>19:18:04</td>\n",
       "      <td>1</td>\n",
       "      <td>189</td>\n",
       "      <td>209</td>\n",
       "      <td>1</td>\n",
       "    </tr>\n",
       "    <tr>\n",
       "      <td>1245</td>\n",
       "      <td>NJSUBWRMQQ</td>\n",
       "      <td>3</td>\n",
       "      <td>Ohio</td>\n",
       "      <td>2015-05-01</td>\n",
       "      <td>Get Back</td>\n",
       "      <td>2015-06-01 20:31:49</td>\n",
       "      <td>2015-06-01</td>\n",
       "      <td>20:31:49</td>\n",
       "      <td>3</td>\n",
       "      <td>279</td>\n",
       "      <td>209</td>\n",
       "      <td>2</td>\n",
       "    </tr>\n",
       "    <tr>\n",
       "      <td>179</td>\n",
       "      <td>PBXOQQBWEA</td>\n",
       "      <td>3</td>\n",
       "      <td>Ohio</td>\n",
       "      <td>2015-05-01</td>\n",
       "      <td>Lucy In The Sky With Diamonds</td>\n",
       "      <td>2015-06-04 01:08:14</td>\n",
       "      <td>2015-06-04</td>\n",
       "      <td>01:08:14</td>\n",
       "      <td>2</td>\n",
       "      <td>113</td>\n",
       "      <td>209</td>\n",
       "      <td>1</td>\n",
       "    </tr>\n",
       "    <tr>\n",
       "      <td>3862</td>\n",
       "      <td>RKKESLRFSH</td>\n",
       "      <td>3</td>\n",
       "      <td>Ohio</td>\n",
       "      <td>2015-05-01</td>\n",
       "      <td>Hello Goodbye</td>\n",
       "      <td>2015-06-06 14:43:29</td>\n",
       "      <td>2015-06-06</td>\n",
       "      <td>14:43:29</td>\n",
       "      <td>1</td>\n",
       "      <td>161</td>\n",
       "      <td>209</td>\n",
       "      <td>1</td>\n",
       "    </tr>\n",
       "    <tr>\n",
       "      <td>1</td>\n",
       "      <td>HWKKBQKNWI</td>\n",
       "      <td>3</td>\n",
       "      <td>Ohio</td>\n",
       "      <td>2015-05-01</td>\n",
       "      <td>We Can Work It Out</td>\n",
       "      <td>2015-06-06 16:49:19</td>\n",
       "      <td>2015-06-06</td>\n",
       "      <td>16:49:19</td>\n",
       "      <td>1</td>\n",
       "      <td>99</td>\n",
       "      <td>209</td>\n",
       "      <td>2</td>\n",
       "    </tr>\n",
       "  </tbody>\n",
       "</table>\n",
       "</div>"
      ],
      "text/plain": [
       "              id  user_id user_state user_sign_up_date  \\\n",
       "3669  TGATMXQGDZ        3       Ohio        2015-05-01   \n",
       "1245  NJSUBWRMQQ        3       Ohio        2015-05-01   \n",
       "179   PBXOQQBWEA        3       Ohio        2015-05-01   \n",
       "3862  RKKESLRFSH        3       Ohio        2015-05-01   \n",
       "1     HWKKBQKNWI        3       Ohio        2015-05-01   \n",
       "\n",
       "                        song_played         time_played day_played  \\\n",
       "3669              A Day In The Life 2015-06-01 19:18:04 2015-06-01   \n",
       "1245                       Get Back 2015-06-01 20:31:49 2015-06-01   \n",
       "179   Lucy In The Sky With Diamonds 2015-06-04 01:08:14 2015-06-04   \n",
       "3862                  Hello Goodbye 2015-06-06 14:43:29 2015-06-06   \n",
       "1                We Can Work It Out 2015-06-06 16:49:19 2015-06-06   \n",
       "\n",
       "     time_of_day_played  song_played_times  song_played_times_overall_day  \\\n",
       "3669           19:18:04                  1                            189   \n",
       "1245           20:31:49                  3                            279   \n",
       "179            01:08:14                  2                            113   \n",
       "3862           14:43:29                  1                            161   \n",
       "1              16:49:19                  1                             99   \n",
       "\n",
       "      song_played_times_loc  song_played_order  \n",
       "3669                    209                  1  \n",
       "1245                    209                  2  \n",
       "179                     209                  1  \n",
       "3862                    209                  1  \n",
       "1                       209                  2  "
      ]
     },
     "execution_count": 106,
     "metadata": {},
     "output_type": "execute_result"
    }
   ],
   "source": [
    "data.drop('dummy', axis = 1, inplace = True)\n",
    "data[data['user_id'] == 3].sort_values(by = 'time_played').head()"
   ]
  },
  {
   "cell_type": "code",
   "execution_count": 110,
   "metadata": {},
   "outputs": [
    {
     "data": {
      "text/html": [
       "<div>\n",
       "<style scoped>\n",
       "    .dataframe tbody tr th:only-of-type {\n",
       "        vertical-align: middle;\n",
       "    }\n",
       "\n",
       "    .dataframe tbody tr th {\n",
       "        vertical-align: top;\n",
       "    }\n",
       "\n",
       "    .dataframe thead th {\n",
       "        text-align: right;\n",
       "    }\n",
       "</style>\n",
       "<table border=\"1\" class=\"dataframe\">\n",
       "  <thead>\n",
       "    <tr style=\"text-align: right;\">\n",
       "      <th></th>\n",
       "      <th>user_state</th>\n",
       "      <th>id</th>\n",
       "      <th>song_played</th>\n",
       "      <th>song_played_times</th>\n",
       "      <th>song_played_times_overall_day</th>\n",
       "      <th>song_played_times_loc</th>\n",
       "      <th>song_played_order</th>\n",
       "    </tr>\n",
       "  </thead>\n",
       "  <tbody>\n",
       "    <tr>\n",
       "      <td>0</td>\n",
       "      <td>Louisiana</td>\n",
       "      <td>GOQMMKSQQH</td>\n",
       "      <td>Hey Jude</td>\n",
       "      <td>1</td>\n",
       "      <td>120</td>\n",
       "      <td>105</td>\n",
       "      <td>1</td>\n",
       "    </tr>\n",
       "    <tr>\n",
       "      <td>1</td>\n",
       "      <td>Ohio</td>\n",
       "      <td>HWKKBQKNWI</td>\n",
       "      <td>We Can Work It Out</td>\n",
       "      <td>1</td>\n",
       "      <td>99</td>\n",
       "      <td>209</td>\n",
       "      <td>2</td>\n",
       "    </tr>\n",
       "    <tr>\n",
       "      <td>2</td>\n",
       "      <td>New Jersey</td>\n",
       "      <td>DKQSXVNJDH</td>\n",
       "      <td>Back In the U.S.S.R.</td>\n",
       "      <td>2</td>\n",
       "      <td>163</td>\n",
       "      <td>117</td>\n",
       "      <td>1</td>\n",
       "    </tr>\n",
       "    <tr>\n",
       "      <td>3</td>\n",
       "      <td>Illinois</td>\n",
       "      <td>HLHRIDQTUW</td>\n",
       "      <td>P.s. I Love You</td>\n",
       "      <td>1</td>\n",
       "      <td>6</td>\n",
       "      <td>149</td>\n",
       "      <td>1</td>\n",
       "    </tr>\n",
       "    <tr>\n",
       "      <td>4</td>\n",
       "      <td>New Jersey</td>\n",
       "      <td>SUKJCSBCYW</td>\n",
       "      <td>Sgt. Pepper's Lonely Hearts Club Band</td>\n",
       "      <td>1</td>\n",
       "      <td>8</td>\n",
       "      <td>117</td>\n",
       "      <td>1</td>\n",
       "    </tr>\n",
       "  </tbody>\n",
       "</table>\n",
       "</div>"
      ],
      "text/plain": [
       "   user_state          id                            song_played  \\\n",
       "0   Louisiana  GOQMMKSQQH                               Hey Jude   \n",
       "1        Ohio  HWKKBQKNWI                     We Can Work It Out   \n",
       "2  New Jersey  DKQSXVNJDH                   Back In the U.S.S.R.   \n",
       "3    Illinois  HLHRIDQTUW                        P.s. I Love You   \n",
       "4  New Jersey  SUKJCSBCYW  Sgt. Pepper's Lonely Hearts Club Band   \n",
       "\n",
       "   song_played_times  song_played_times_overall_day  song_played_times_loc  \\\n",
       "0                  1                            120                    105   \n",
       "1                  1                             99                    209   \n",
       "2                  2                            163                    117   \n",
       "3                  1                              6                    149   \n",
       "4                  1                              8                    117   \n",
       "\n",
       "   song_played_order  \n",
       "0                  1  \n",
       "1                  2  \n",
       "2                  1  \n",
       "3                  1  \n",
       "4                  1  "
      ]
     },
     "execution_count": 110,
     "metadata": {},
     "output_type": "execute_result"
    }
   ],
   "source": [
    "data[['user_state', 'id','song_played','song_played_times',\n",
    "      'song_played_times_overall_day','song_played_times_loc','song_played_order']].head()"
   ]
  },
  {
   "cell_type": "code",
   "execution_count": 114,
   "metadata": {},
   "outputs": [
    {
     "data": {
      "image/png": "[encoded data removed]",
      "text/plain": [
       "<Figure size 432x288 with 1 Axes>"
      ]
     },
     "metadata": {
      "needs_background": "light"
     },
     "output_type": "display_data"
    }
   ],
   "source": [
    "# top songs\n",
    "x = data.groupby(['song_played'])['song_played_times'].sum().nlargest(10).plot.bar(title = 'Most popular songs')"
   ]
  },
  {
   "cell_type": "code",
   "execution_count": 115,
   "metadata": {},
   "outputs": [
    {
     "data": {
      "image/png": "[encoded data removed]",
      "text/plain": [
       "<Figure size 432x288 with 1 Axes>"
      ]
     },
     "metadata": {
      "needs_background": "light"
     },
     "output_type": "display_data"
    }
   ],
   "source": [
    "# top songs\n",
    "x = data.groupby(['song_played'])['song_played_times'].sum().nsmallest(10).plot.bar(title = 'Least popular songs')"
   ]
  },
  {
   "cell_type": "code",
   "execution_count": 15,
   "metadata": {},
   "outputs": [],
   "source": [
    "data['time_of_day_played'] = pd.to_datetime(data['time_of_day_played'])\n",
    "data['time_of_day_played'] = data['time_of_day_played'].dt.hour*3600 + data['time_of_day_played'].dt.minute*60 + data['time_of_day_played'].dt.second"
   ]
  },
  {
   "cell_type": "markdown",
   "metadata": {},
   "source": [
    "### difference between sign up day and first played"
   ]
  },
  {
   "cell_type": "code",
   "execution_count": 17,
   "metadata": {},
   "outputs": [],
   "source": [
    "data['first_played'] = data.groupby('user_id')['day_played'].transform('min')\n",
    "data['sign_up_to_first_played'] = (data['first_played'] - data['day_played']).astype(int)"
   ]
  },
  {
   "cell_type": "markdown",
   "metadata": {},
   "source": [
    "## Model"
   ]
  },
  {
   "cell_type": "code",
   "execution_count": 18,
   "metadata": {},
   "outputs": [],
   "source": [
    "df = data.drop(['user_sign_up_date','time_played',\n",
    "                'day_played','song_played','first_played','id'], axis = 1)\n",
    "le = preprocessing.LabelEncoder()\n",
    "y = data['song_played']\n",
    "le.fit(y)\n",
    "y = le.transform(y)"
   ]
  },
  {
   "cell_type": "markdown",
   "metadata": {},
   "source": [
    "### Training"
   ]
  },
  {
   "cell_type": "code",
   "execution_count": 19,
   "metadata": {},
   "outputs": [
    {
     "data": {
      "text/plain": [
       "AdaBoostClassifier(algorithm='SAMME.R',\n",
       "                   base_estimator=DecisionTreeClassifier(class_weight=None,\n",
       "                                                         criterion='gini',\n",
       "                                                         max_depth=10,\n",
       "                                                         max_features=None,\n",
       "                                                         max_leaf_nodes=None,\n",
       "                                                         min_impurity_decrease=0.0,\n",
       "                                                         min_impurity_split=None,\n",
       "                                                         min_samples_leaf=1,\n",
       "                                                         min_samples_split=2,\n",
       "                                                         min_weight_fraction_leaf=0.0,\n",
       "                                                         presort=False,\n",
       "                                                         random_state=None,\n",
       "                                                         splitter='best'),\n",
       "                   learning_rate=1.0, n_estimators=100, random_state=42)"
      ]
     },
     "execution_count": 19,
     "metadata": {},
     "output_type": "execute_result"
    }
   ],
   "source": [
    "X_train, X_test, y_train, y_test = train_test_split(pd.get_dummies(df), \n",
    "                                                    y, random_state=42, test_size = 0.33)\n",
    "rfc =  AdaBoostClassifier(n_estimators=100, random_state=42,\n",
    "                         base_estimator = DecisionTreeClassifier(max_depth = 10))\n",
    "rfc.fit(X_train, y_train)"
   ]
  },
  {
   "cell_type": "markdown",
   "metadata": {},
   "source": [
    "### Predicting"
   ]
  },
  {
   "cell_type": "code",
   "execution_count": 20,
   "metadata": {},
   "outputs": [],
   "source": [
    "y_pred = rfc.predict(X_test)"
   ]
  },
  {
   "cell_type": "code",
   "execution_count": 21,
   "metadata": {},
   "outputs": [
    {
     "data": {
      "text/plain": [
       "0.8333333333333334"
      ]
     },
     "execution_count": 21,
     "metadata": {},
     "output_type": "execute_result"
    }
   ],
   "source": [
    "rfc.score(X_test, y_test)"
   ]
  },
  {
   "cell_type": "markdown",
   "metadata": {},
   "source": [
    "### Score\n",
    "How would you set up a test to check whether your model works well?"
   ]
  },
  {
   "cell_type": "code",
   "execution_count": 22,
   "metadata": {},
   "outputs": [
    {
     "name": "stderr",
     "output_type": "stream",
     "text": [
      "/opt/anaconda3/lib/python3.7/site-packages/sklearn/metrics/classification.py:1437: UndefinedMetricWarning: F-score is ill-defined and being set to 0.0 in labels with no predicted samples.\n",
      "  'precision', 'predicted', average, warn_for)\n",
      "/opt/anaconda3/lib/python3.7/site-packages/sklearn/metrics/classification.py:1439: UndefinedMetricWarning: F-score is ill-defined and being set to 0.0 in labels with no true samples.\n",
      "  'recall', 'true', average, warn_for)\n"
     ]
    },
    {
     "data": {
      "text/plain": [
       "0.8308758084166559"
      ]
     },
     "execution_count": 22,
     "metadata": {},
     "output_type": "execute_result"
    }
   ],
   "source": [
    "f1_score(y_test, y_pred, average='weighted')"
   ]
  },
  {
   "cell_type": "code",
   "execution_count": null,
   "metadata": {},
   "outputs": [],
   "source": []
  }
 ],
 "metadata": {
  "kernelspec": {
   "display_name": "Python 3",
   "language": "python",
   "name": "python3"
  },
  "language_info": {
   "codemirror_mode": {
    "name": "ipython",
    "version": 3
   },
   "file_extension": ".py",
   "mimetype": "text/x-python",
   "name": "python",
   "nbconvert_exporter": "python",
   "pygments_lexer": "ipython3",
   "version": "3.7.4"
  },
  "latex_envs": {
   "LaTeX_envs_menu_present": true,
   "autoclose": false,
   "autocomplete": true,
   "bibliofile": "biblio.bib",
   "cite_by": "apalike",
   "current_citInitial": 1,
   "eqLabelWithNumbers": true,
   "eqNumInitial": 1,
   "hotkeys": {
    "equation": "Ctrl-E",
    "itemize": "Ctrl-I"
   },
   "labels_anchors": false,
   "latex_user_defs": false,
   "report_style_numbering": false,
   "user_envs_cfg": false
  },
  "toc": {
   "base_numbering": 1,
   "nav_menu": {},
   "number_sections": true,
   "sideBar": true,
   "skip_h1_title": false,
   "title_cell": "Table of Contents",
   "title_sidebar": "Contents",
   "toc_cell": false,
   "toc_position": {
    "height": "calc(100% - 180px)",
    "left": "10px",
    "top": "150px",
    "width": "165px"
   },
   "toc_section_display": true,
   "toc_window_display": true
  }
 },
 "nbformat": 4,
 "nbformat_minor": 2
}
